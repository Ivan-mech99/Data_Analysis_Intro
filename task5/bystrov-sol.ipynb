{
 "cells": [
  {
   "cell_type": "code",
   "execution_count": 1,
   "id": "flying-celebration",
   "metadata": {
    "execution": {
     "iopub.execute_input": "2021-05-11T05:57:38.088557Z",
     "iopub.status.busy": "2021-05-11T05:57:38.087388Z",
     "iopub.status.idle": "2021-05-11T05:57:39.975132Z",
     "shell.execute_reply": "2021-05-11T05:57:39.975665Z"
    },
    "papermill": {
     "duration": 1.903508,
     "end_time": "2021-05-11T05:57:39.976051",
     "exception": false,
     "start_time": "2021-05-11T05:57:38.072543",
     "status": "completed"
    },
    "tags": []
   },
   "outputs": [],
   "source": [
    "import pandas as pd \n",
    "import numpy as np\n",
    "import statsmodels.api as sms\n",
    "import matplotlib.pyplot as plt\n",
    "from scipy import stats\n",
    "import tqdm\n",
    "from statsmodels.tsa.api import ExponentialSmoothing, SimpleExpSmoothing, Holt\n",
    "from sklearn.model_selection import TimeSeriesSplit\n",
    "from pylab import rcParams\n",
    "from sklearn.metrics import mean_absolute_error as mae\n",
    "from tqdm import tqdm_notebook\n",
    "import warnings\n",
    "%matplotlib inline\n",
    "plt.style.use('ggplot')\n",
    "warnings.filterwarnings('ignore')"
   ]
  },
  {
   "cell_type": "code",
   "execution_count": 2,
   "id": "intended-separate",
   "metadata": {
    "execution": {
     "iopub.execute_input": "2021-05-11T05:57:39.999992Z",
     "iopub.status.busy": "2021-05-11T05:57:39.999232Z",
     "iopub.status.idle": "2021-05-11T05:57:40.127490Z",
     "shell.execute_reply": "2021-05-11T05:57:40.128195Z"
    },
    "papermill": {
     "duration": 0.142104,
     "end_time": "2021-05-11T05:57:40.128443",
     "exception": false,
     "start_time": "2021-05-11T05:57:39.986339",
     "status": "completed"
    },
    "tags": []
   },
   "outputs": [],
   "source": [
    "pd.set_option('display.max_rows', 100)\n",
    "data = pd.read_csv('/kaggle/input/grocery-sales-forecast/train.csv', parse_dates=['date'], index_col='date')"
   ]
  },
  {
   "cell_type": "code",
   "execution_count": 3,
   "id": "rubber-commercial",
   "metadata": {
    "execution": {
     "iopub.execute_input": "2021-05-11T05:57:40.151097Z",
     "iopub.status.busy": "2021-05-11T05:57:40.150428Z",
     "iopub.status.idle": "2021-05-11T05:57:40.173548Z",
     "shell.execute_reply": "2021-05-11T05:57:40.174088Z"
    },
    "papermill": {
     "duration": 0.036075,
     "end_time": "2021-05-11T05:57:40.174286",
     "exception": false,
     "start_time": "2021-05-11T05:57:40.138211",
     "status": "completed"
    },
    "tags": []
   },
   "outputs": [
    {
     "data": {
      "text/html": [
       "<div>\n",
       "<style scoped>\n",
       "    .dataframe tbody tr th:only-of-type {\n",
       "        vertical-align: middle;\n",
       "    }\n",
       "\n",
       "    .dataframe tbody tr th {\n",
       "        vertical-align: top;\n",
       "    }\n",
       "\n",
       "    .dataframe thead th {\n",
       "        text-align: right;\n",
       "    }\n",
       "</style>\n",
       "<table border=\"1\" class=\"dataframe\">\n",
       "  <thead>\n",
       "    <tr style=\"text-align: right;\">\n",
       "      <th></th>\n",
       "      <th>warehouse_id</th>\n",
       "      <th>product_id</th>\n",
       "      <th>quantity</th>\n",
       "      <th>id</th>\n",
       "    </tr>\n",
       "    <tr>\n",
       "      <th>date</th>\n",
       "      <th></th>\n",
       "      <th></th>\n",
       "      <th></th>\n",
       "      <th></th>\n",
       "    </tr>\n",
       "  </thead>\n",
       "  <tbody>\n",
       "    <tr>\n",
       "      <th>2020-12-02</th>\n",
       "      <td>0</td>\n",
       "      <td>71165</td>\n",
       "      <td>1</td>\n",
       "      <td>0</td>\n",
       "    </tr>\n",
       "    <tr>\n",
       "      <th>2020-12-03</th>\n",
       "      <td>0</td>\n",
       "      <td>71165</td>\n",
       "      <td>3</td>\n",
       "      <td>1</td>\n",
       "    </tr>\n",
       "    <tr>\n",
       "      <th>2020-12-07</th>\n",
       "      <td>0</td>\n",
       "      <td>71165</td>\n",
       "      <td>2</td>\n",
       "      <td>2</td>\n",
       "    </tr>\n",
       "    <tr>\n",
       "      <th>2020-12-08</th>\n",
       "      <td>0</td>\n",
       "      <td>71165</td>\n",
       "      <td>2</td>\n",
       "      <td>3</td>\n",
       "    </tr>\n",
       "    <tr>\n",
       "      <th>2020-12-09</th>\n",
       "      <td>0</td>\n",
       "      <td>71165</td>\n",
       "      <td>3</td>\n",
       "      <td>4</td>\n",
       "    </tr>\n",
       "    <tr>\n",
       "      <th>...</th>\n",
       "      <td>...</td>\n",
       "      <td>...</td>\n",
       "      <td>...</td>\n",
       "      <td>...</td>\n",
       "    </tr>\n",
       "    <tr>\n",
       "      <th>2021-04-06</th>\n",
       "      <td>1</td>\n",
       "      <td>98255</td>\n",
       "      <td>3</td>\n",
       "      <td>83132</td>\n",
       "    </tr>\n",
       "    <tr>\n",
       "      <th>2021-04-07</th>\n",
       "      <td>1</td>\n",
       "      <td>98255</td>\n",
       "      <td>1</td>\n",
       "      <td>83133</td>\n",
       "    </tr>\n",
       "    <tr>\n",
       "      <th>2021-04-07</th>\n",
       "      <td>1</td>\n",
       "      <td>98615</td>\n",
       "      <td>1</td>\n",
       "      <td>83146</td>\n",
       "    </tr>\n",
       "    <tr>\n",
       "      <th>2021-04-08</th>\n",
       "      <td>1</td>\n",
       "      <td>98620</td>\n",
       "      <td>1</td>\n",
       "      <td>83150</td>\n",
       "    </tr>\n",
       "    <tr>\n",
       "      <th>2021-04-08</th>\n",
       "      <td>1</td>\n",
       "      <td>98635</td>\n",
       "      <td>2</td>\n",
       "      <td>83158</td>\n",
       "    </tr>\n",
       "  </tbody>\n",
       "</table>\n",
       "<p>78067 rows × 4 columns</p>\n",
       "</div>"
      ],
      "text/plain": [
       "            warehouse_id  product_id  quantity     id\n",
       "date                                                 \n",
       "2020-12-02             0       71165         1      0\n",
       "2020-12-03             0       71165         3      1\n",
       "2020-12-07             0       71165         2      2\n",
       "2020-12-08             0       71165         2      3\n",
       "2020-12-09             0       71165         3      4\n",
       "...                  ...         ...       ...    ...\n",
       "2021-04-06             1       98255         3  83132\n",
       "2021-04-07             1       98255         1  83133\n",
       "2021-04-07             1       98615         1  83146\n",
       "2021-04-08             1       98620         1  83150\n",
       "2021-04-08             1       98635         2  83158\n",
       "\n",
       "[78067 rows x 4 columns]"
      ]
     },
     "execution_count": 3,
     "metadata": {},
     "output_type": "execute_result"
    }
   ],
   "source": [
    "data"
   ]
  },
  {
   "cell_type": "code",
   "execution_count": 4,
   "id": "entitled-contribution",
   "metadata": {
    "execution": {
     "iopub.execute_input": "2021-05-11T05:57:40.198997Z",
     "iopub.status.busy": "2021-05-11T05:57:40.198278Z",
     "iopub.status.idle": "2021-05-11T05:57:40.744939Z",
     "shell.execute_reply": "2021-05-11T05:57:40.745719Z"
    },
    "papermill": {
     "duration": 0.560947,
     "end_time": "2021-05-11T05:57:40.745997",
     "exception": false,
     "start_time": "2021-05-11T05:57:40.185050",
     "status": "completed"
    },
    "tags": []
   },
   "outputs": [
    {
     "data": {
      "image/png": "[encoded data removed]",
      "text/plain": [
       "<Figure size 1080x720 with 1 Axes>"
      ]
     },
     "metadata": {},
     "output_type": "display_data"
    }
   ],
   "source": [
    "df0 = data[data.warehouse_id == 0]\n",
    "df0['appear'] = np.ones(df0.shape[0], dtype = 'int')\n",
    "infoset0 = df0.groupby('product_id')['appear'].sum().to_frame()\n",
    "infoset0['extra'] = np.ones(infoset0.shape[0], dtype = 'int')\n",
    "res0 = infoset0.groupby('appear')['extra'].sum()\n",
    "plt.figure(figsize=(15,10))\n",
    "plt.bar(res0.index, res0)\n",
    "plt.title('shop0', fontsize = 20)\n",
    "plt.xlabel('informative days', fontsize = 20)\n",
    "plt.ylabel('number of products', fontsize = 20)\n",
    "plt.show()"
   ]
  },
  {
   "cell_type": "code",
   "execution_count": 5,
   "id": "exceptional-vancouver",
   "metadata": {
    "execution": {
     "iopub.execute_input": "2021-05-11T05:57:40.772959Z",
     "iopub.status.busy": "2021-05-11T05:57:40.772228Z",
     "iopub.status.idle": "2021-05-11T05:57:41.180552Z",
     "shell.execute_reply": "2021-05-11T05:57:41.179907Z"
    },
    "papermill": {
     "duration": 0.422892,
     "end_time": "2021-05-11T05:57:41.180734",
     "exception": false,
     "start_time": "2021-05-11T05:57:40.757842",
     "status": "completed"
    },
    "tags": []
   },
   "outputs": [
    {
     "data": {
      "image/png": "[encoded data removed]",
      "text/plain": [
       "<Figure size 1080x720 with 1 Axes>"
      ]
     },
     "metadata": {},
     "output_type": "display_data"
    }
   ],
   "source": [
    "df1 = data[data.warehouse_id == 1]\n",
    "df1['appear'] = np.ones(df1.shape[0], dtype = 'int')\n",
    "infoset1 = df1.groupby('product_id')['appear'].sum().to_frame()\n",
    "infoset1['extra'] = np.ones(infoset1.shape[0], dtype = 'int')\n",
    "res1 = infoset1.groupby('appear')['extra'].sum()\n",
    "plt.figure(figsize=(15,10))\n",
    "plt.bar(res1.index, res1, color = 'blue')\n",
    "plt.title('shop1', fontsize = 20)\n",
    "plt.xlabel('informative days', fontsize = 20)\n",
    "plt.ylabel('number of products', fontsize = 20)\n",
    "plt.show()"
   ]
  },
  {
   "cell_type": "markdown",
   "id": "associate-charleston",
   "metadata": {
    "papermill": {
     "duration": 0.012289,
     "end_time": "2021-05-11T05:57:41.206299",
     "exception": false,
     "start_time": "2021-05-11T05:57:41.194010",
     "status": "completed"
    },
    "tags": []
   },
   "source": [
    "Видно, что для большого количества товаров есть информация только за 1 - 3 дня. Логично предположить, что в остальные дни они не продавались"
   ]
  },
  {
   "cell_type": "code",
   "execution_count": 6,
   "id": "practical-strain",
   "metadata": {
    "execution": {
     "iopub.execute_input": "2021-05-11T05:57:41.237368Z",
     "iopub.status.busy": "2021-05-11T05:57:41.236605Z",
     "iopub.status.idle": "2021-05-11T05:57:41.296065Z",
     "shell.execute_reply": "2021-05-11T05:57:41.295415Z"
    },
    "papermill": {
     "duration": 0.077288,
     "end_time": "2021-05-11T05:57:41.296245",
     "exception": false,
     "start_time": "2021-05-11T05:57:41.218957",
     "status": "completed"
    },
    "tags": []
   },
   "outputs": [],
   "source": [
    "test_data = pd.read_csv('/kaggle/input/grocery-sales-forecast/test.csv', parse_dates=['date'], index_col='date')"
   ]
  },
  {
   "cell_type": "code",
   "execution_count": 7,
   "id": "sonic-currency",
   "metadata": {
    "execution": {
     "iopub.execute_input": "2021-05-11T05:57:41.336833Z",
     "iopub.status.busy": "2021-05-11T05:57:41.336052Z",
     "iopub.status.idle": "2021-05-11T05:57:41.342798Z",
     "shell.execute_reply": "2021-05-11T05:57:41.342277Z"
    },
    "papermill": {
     "duration": 0.0332,
     "end_time": "2021-05-11T05:57:41.342947",
     "exception": false,
     "start_time": "2021-05-11T05:57:41.309747",
     "status": "completed"
    },
    "tags": []
   },
   "outputs": [
    {
     "data": {
      "text/html": [
       "<div>\n",
       "<style scoped>\n",
       "    .dataframe tbody tr th:only-of-type {\n",
       "        vertical-align: middle;\n",
       "    }\n",
       "\n",
       "    .dataframe tbody tr th {\n",
       "        vertical-align: top;\n",
       "    }\n",
       "\n",
       "    .dataframe thead th {\n",
       "        text-align: right;\n",
       "    }\n",
       "</style>\n",
       "<table border=\"1\" class=\"dataframe\">\n",
       "  <thead>\n",
       "    <tr style=\"text-align: right;\">\n",
       "      <th></th>\n",
       "      <th>product_id</th>\n",
       "      <th>warehouse_id</th>\n",
       "      <th>id</th>\n",
       "    </tr>\n",
       "    <tr>\n",
       "      <th>date</th>\n",
       "      <th></th>\n",
       "      <th></th>\n",
       "      <th></th>\n",
       "    </tr>\n",
       "  </thead>\n",
       "  <tbody>\n",
       "    <tr>\n",
       "      <th>2021-04-09</th>\n",
       "      <td>71165</td>\n",
       "      <td>0</td>\n",
       "      <td>0</td>\n",
       "    </tr>\n",
       "    <tr>\n",
       "      <th>2021-04-09</th>\n",
       "      <td>71165</td>\n",
       "      <td>1</td>\n",
       "      <td>1</td>\n",
       "    </tr>\n",
       "    <tr>\n",
       "      <th>2021-04-09</th>\n",
       "      <td>71170</td>\n",
       "      <td>0</td>\n",
       "      <td>2</td>\n",
       "    </tr>\n",
       "    <tr>\n",
       "      <th>2021-04-09</th>\n",
       "      <td>71170</td>\n",
       "      <td>1</td>\n",
       "      <td>3</td>\n",
       "    </tr>\n",
       "    <tr>\n",
       "      <th>2021-04-09</th>\n",
       "      <td>71185</td>\n",
       "      <td>0</td>\n",
       "      <td>4</td>\n",
       "    </tr>\n",
       "    <tr>\n",
       "      <th>...</th>\n",
       "      <td>...</td>\n",
       "      <td>...</td>\n",
       "      <td>...</td>\n",
       "    </tr>\n",
       "    <tr>\n",
       "      <th>2021-04-15</th>\n",
       "      <td>98615</td>\n",
       "      <td>1</td>\n",
       "      <td>46027</td>\n",
       "    </tr>\n",
       "    <tr>\n",
       "      <th>2021-04-15</th>\n",
       "      <td>98620</td>\n",
       "      <td>0</td>\n",
       "      <td>46028</td>\n",
       "    </tr>\n",
       "    <tr>\n",
       "      <th>2021-04-15</th>\n",
       "      <td>98620</td>\n",
       "      <td>1</td>\n",
       "      <td>46029</td>\n",
       "    </tr>\n",
       "    <tr>\n",
       "      <th>2021-04-15</th>\n",
       "      <td>98635</td>\n",
       "      <td>0</td>\n",
       "      <td>46030</td>\n",
       "    </tr>\n",
       "    <tr>\n",
       "      <th>2021-04-15</th>\n",
       "      <td>98635</td>\n",
       "      <td>1</td>\n",
       "      <td>46031</td>\n",
       "    </tr>\n",
       "  </tbody>\n",
       "</table>\n",
       "<p>46032 rows × 3 columns</p>\n",
       "</div>"
      ],
      "text/plain": [
       "            product_id  warehouse_id     id\n",
       "date                                       \n",
       "2021-04-09       71165             0      0\n",
       "2021-04-09       71165             1      1\n",
       "2021-04-09       71170             0      2\n",
       "2021-04-09       71170             1      3\n",
       "2021-04-09       71185             0      4\n",
       "...                ...           ...    ...\n",
       "2021-04-15       98615             1  46027\n",
       "2021-04-15       98620             0  46028\n",
       "2021-04-15       98620             1  46029\n",
       "2021-04-15       98635             0  46030\n",
       "2021-04-15       98635             1  46031\n",
       "\n",
       "[46032 rows x 3 columns]"
      ]
     },
     "execution_count": 7,
     "metadata": {},
     "output_type": "execute_result"
    }
   ],
   "source": [
    "test_data"
   ]
  },
  {
   "cell_type": "code",
   "execution_count": 8,
   "id": "vocal-queue",
   "metadata": {
    "execution": {
     "iopub.execute_input": "2021-05-11T05:57:41.376296Z",
     "iopub.status.busy": "2021-05-11T05:57:41.375536Z",
     "iopub.status.idle": "2021-05-11T05:57:41.379102Z",
     "shell.execute_reply": "2021-05-11T05:57:41.378492Z"
    },
    "papermill": {
     "duration": 0.022636,
     "end_time": "2021-05-11T05:57:41.379302",
     "exception": false,
     "start_time": "2021-05-11T05:57:41.356666",
     "status": "completed"
    },
    "tags": []
   },
   "outputs": [],
   "source": [
    "product_ids = test_data['product_id'].unique()"
   ]
  },
  {
   "cell_type": "code",
   "execution_count": 9,
   "id": "subject-christopher",
   "metadata": {
    "execution": {
     "iopub.execute_input": "2021-05-11T05:57:41.412868Z",
     "iopub.status.busy": "2021-05-11T05:57:41.412156Z",
     "iopub.status.idle": "2021-05-11T05:57:41.434118Z",
     "shell.execute_reply": "2021-05-11T05:57:41.433402Z"
    },
    "papermill": {
     "duration": 0.040908,
     "end_time": "2021-05-11T05:57:41.434275",
     "exception": false,
     "start_time": "2021-05-11T05:57:41.393367",
     "status": "completed"
    },
    "tags": []
   },
   "outputs": [],
   "source": [
    "temp_data = data.copy()\n",
    "temp_data = temp_data.sort_values(by=['date'])\n",
    "dates = temp_data.index.unique()"
   ]
  },
  {
   "cell_type": "code",
   "execution_count": 10,
   "id": "complex-clark",
   "metadata": {
    "execution": {
     "iopub.execute_input": "2021-05-11T05:57:41.473469Z",
     "iopub.status.busy": "2021-05-11T05:57:41.472716Z",
     "iopub.status.idle": "2021-05-11T06:03:26.623744Z",
     "shell.execute_reply": "2021-05-11T06:03:26.622440Z"
    },
    "papermill": {
     "duration": 345.175484,
     "end_time": "2021-05-11T06:03:26.623939",
     "exception": false,
     "start_time": "2021-05-11T05:57:41.448455",
     "status": "completed"
    },
    "tags": []
   },
   "outputs": [
    {
     "data": {
      "application/vnd.jupyter.widget-view+json": {
       "model_id": "05bb630516cc44949ad72f6418edc55e",
       "version_major": 2,
       "version_minor": 0
      },
      "text/plain": [
       "  0%|          | 0/3288 [00:00<?, ?it/s]"
      ]
     },
     "metadata": {},
     "output_type": "display_data"
    },
    {
     "data": {
      "application/vnd.jupyter.widget-view+json": {
       "model_id": "9fc66ce04baf4cd1a95beb6378002e50",
       "version_major": 2,
       "version_minor": 0
      },
      "text/plain": [
       "  0%|          | 0/3288 [00:00<?, ?it/s]"
      ]
     },
     "metadata": {},
     "output_type": "display_data"
    }
   ],
   "source": [
    "results = np.array([])\n",
    "for i in range(0,2):\n",
    "    for j in tqdm_notebook(product_ids):\n",
    "        train = data[(data['product_id'] == j) & (data['warehouse_id'] == i)]\n",
    "        test = test_data[(test_data['product_id'] == j) & (test_data['warehouse_id'] == i)]\n",
    "        if train.shape[0] < 20:\n",
    "            forecast = pd.Series(np.zeros(test.shape[0], dtype = 'int'))\n",
    "            forecast.index = test.index\n",
    "            results = np.hstack((results, forecast.values))\n",
    "        else:\n",
    "            for date in dates:\n",
    "                if date not in train.index:\n",
    "                    train.loc[date] = [0, 0, 0, 0]\n",
    "            fit1 = ExponentialSmoothing(np.asarray(train.quantity) ,seasonal_periods = 31 ,trend=None, seasonal='add').fit()\n",
    "            forecast = pd.Series(fit1.forecast(test.shape[0]))\n",
    "            forecast.index = test.index\n",
    "            results = np.hstack((results, forecast.values))"
   ]
  },
  {
   "cell_type": "code",
   "execution_count": 11,
   "id": "active-quest",
   "metadata": {
    "execution": {
     "iopub.execute_input": "2021-05-11T06:03:26.661952Z",
     "iopub.status.busy": "2021-05-11T06:03:26.660864Z",
     "iopub.status.idle": "2021-05-11T06:03:27.090901Z",
     "shell.execute_reply": "2021-05-11T06:03:27.090196Z"
    },
    "papermill": {
     "duration": 0.451933,
     "end_time": "2021-05-11T06:03:27.091089",
     "exception": false,
     "start_time": "2021-05-11T06:03:26.639156",
     "status": "completed"
    },
    "tags": []
   },
   "outputs": [],
   "source": [
    "answer = test_data.copy()\n",
    "answer.sort_values(by=['product_id','warehouse_id', 'date'])\n",
    "results_normal = np.around(results).astype(int)\n",
    "answer['quantity'] = results_normal\n",
    "answer.sort_values(by='id')\n",
    "with open(\"final_results.csv\", \"w\") as f:\n",
    "    f.write(answer.to_csv(columns=(\"id\", \"quantity\"), index=False))"
   ]
  }
 ],
 "metadata": {
  "kernelspec": {
   "display_name": "Python 3",
   "language": "python",
   "name": "python3"
  },
  "language_info": {
   "codemirror_mode": {
    "name": "ipython",
    "version": 3
   },
   "file_extension": ".py",
   "mimetype": "text/x-python",
   "name": "python",
   "nbconvert_exporter": "python",
   "pygments_lexer": "ipython3",
   "version": "3.7.10"
  },
  "papermill": {
   "default_parameters": {},
   "duration": 360.066598,
   "end_time": "2021-05-11T06:03:29.043025",
   "environment_variables": {},
   "exception": null,
   "input_path": "__notebook__.ipynb",
   "output_path": "__notebook__.ipynb",
   "parameters": {},
   "start_time": "2021-05-11T05:57:28.976427",
   "version": "2.3.3"
  },
  "widgets": {
   "application/vnd.jupyter.widget-state+json": {
    "state": {
     "05bb630516cc44949ad72f6418edc55e": {
      "model_module": "@jupyter-widgets/controls",
      "model_module_version": "1.5.0",
      "model_name": "HBoxModel",
      "state": {
       "_dom_classes": [],
       "_model_module": "@jupyter-widgets/controls",
       "_model_module_version": "1.5.0",
       "_model_name": "HBoxModel",
       "_view_count": null,
       "_view_module": "@jupyter-widgets/controls",
       "_view_module_version": "1.5.0",
       "_view_name": "HBoxView",
       "box_style": "",
       "children": [
        "IPY_MODEL_d7f6b51be9ec42f393fd17fd28a0ee51",
        "IPY_MODEL_5a69a5be31d34aeeaa40205367ea81a3",
        "IPY_MODEL_e64d430665f74a20b5ce4ae06f989d46"
       ],
       "layout": "IPY_MODEL_8644efb16afb4d89a1412bf8199248c7"
      }
     },
     "31b6a91a09d246418ae0fbb3a1ab2135": {
      "model_module": "@jupyter-widgets/controls",
      "model_module_version": "1.5.0",
      "model_name": "DescriptionStyleModel",
      "state": {
       "_model_module": "@jupyter-widgets/controls",
       "_model_module_version": "1.5.0",
       "_model_name": "DescriptionStyleModel",
       "_view_count": null,
       "_view_module": "@jupyter-widgets/base",
       "_view_module_version": "1.2.0",
       "_view_name": "StyleView",
       "description_width": ""
      }
     },
     "389858b7f90d4b4c8acf4d98be162b4d": {
      "model_module": "@jupyter-widgets/base",
      "model_module_version": "1.2.0",
      "model_name": "LayoutModel",
      "state": {
       "_model_module": "@jupyter-widgets/base",
       "_model_module_version": "1.2.0",
       "_model_name": "LayoutModel",
       "_view_count": null,
       "_view_module": "@jupyter-widgets/base",
       "_view_module_version": "1.2.0",
       "_view_name": "LayoutView",
       "align_content": null,
       "align_items": null,
       "align_self": null,
       "border": null,
       "bottom": null,
       "display": null,
       "flex": null,
       "flex_flow": null,
       "grid_area": null,
       "grid_auto_columns": null,
       "grid_auto_flow": null,
       "grid_auto_rows": null,
       "grid_column": null,
       "grid_gap": null,
       "grid_row": null,
       "grid_template_areas": null,
       "grid_template_columns": null,
       "grid_template_rows": null,
       "height": null,
       "justify_content": null,
       "justify_items": null,
       "left": null,
       "margin": null,
       "max_height": null,
       "max_width": null,
       "min_height": null,
       "min_width": null,
       "object_fit": null,
       "object_position": null,
       "order": null,
       "overflow": null,
       "overflow_x": null,
       "overflow_y": null,
       "padding": null,
       "right": null,
       "top": null,
       "visibility": null,
       "width": null
      }
     },
     "5a69a5be31d34aeeaa40205367ea81a3": {
      "model_module": "@jupyter-widgets/controls",
      "model_module_version": "1.5.0",
      "model_name": "FloatProgressModel",
      "state": {
       "_dom_classes": [],
       "_model_module": "@jupyter-widgets/controls",
       "_model_module_version": "1.5.0",
       "_model_name": "FloatProgressModel",
       "_view_count": null,
       "_view_module": "@jupyter-widgets/controls",
       "_view_module_version": "1.5.0",
       "_view_name": "ProgressView",
       "bar_style": "success",
       "description": "",
       "description_tooltip": null,
       "layout": "IPY_MODEL_5d67277aee1744d6a6310ecd65346e3b",
       "max": 3288.0,
       "min": 0.0,
       "orientation": "horizontal",
       "style": "IPY_MODEL_b300493e9bfd484b98faaf82dbb5a099",
       "value": 3288.0
      }
     },
     "5d67277aee1744d6a6310ecd65346e3b": {
      "model_module": "@jupyter-widgets/base",
      "model_module_version": "1.2.0",
      "model_name": "LayoutModel",
      "state": {
       "_model_module": "@jupyter-widgets/base",
       "_model_module_version": "1.2.0",
       "_model_name": "LayoutModel",
       "_view_count": null,
       "_view_module": "@jupyter-widgets/base",
       "_view_module_version": "1.2.0",
       "_view_name": "LayoutView",
       "align_content": null,
       "align_items": null,
       "align_self": null,
       "border": null,
       "bottom": null,
       "display": null,
       "flex": null,
       "flex_flow": null,
       "grid_area": null,
       "grid_auto_columns": null,
       "grid_auto_flow": null,
       "grid_auto_rows": null,
       "grid_column": null,
       "grid_gap": null,
       "grid_row": null,
       "grid_template_areas": null,
       "grid_template_columns": null,
       "grid_template_rows": null,
       "height": null,
       "justify_content": null,
       "justify_items": null,
       "left": null,
       "margin": null,
       "max_height": null,
       "max_width": null,
       "min_height": null,
       "min_width": null,
       "object_fit": null,
       "object_position": null,
       "order": null,
       "overflow": null,
       "overflow_x": null,
       "overflow_y": null,
       "padding": null,
       "right": null,
       "top": null,
       "visibility": null,
       "width": null
      }
     },
     "5e83ceaa1be9408085dce78a671b47c4": {
      "model_module": "@jupyter-widgets/controls",
      "model_module_version": "1.5.0",
      "model_name": "ProgressStyleModel",
      "state": {
       "_model_module": "@jupyter-widgets/controls",
       "_model_module_version": "1.5.0",
       "_model_name": "ProgressStyleModel",
       "_view_count": null,
       "_view_module": "@jupyter-widgets/base",
       "_view_module_version": "1.2.0",
       "_view_name": "StyleView",
       "bar_color": null,
       "description_width": ""
      }
     },
     "6023101beae745c794c606a7292d43ab": {
      "model_module": "@jupyter-widgets/controls",
      "model_module_version": "1.5.0",
      "model_name": "DescriptionStyleModel",
      "state": {
       "_model_module": "@jupyter-widgets/controls",
       "_model_module_version": "1.5.0",
       "_model_name": "DescriptionStyleModel",
       "_view_count": null,
       "_view_module": "@jupyter-widgets/base",
       "_view_module_version": "1.2.0",
       "_view_name": "StyleView",
       "description_width": ""
      }
     },
     "662a358a5f314220bc820a58cce1c2f5": {
      "model_module": "@jupyter-widgets/base",
      "model_module_version": "1.2.0",
      "model_name": "LayoutModel",
      "state": {
       "_model_module": "@jupyter-widgets/base",
       "_model_module_version": "1.2.0",
       "_model_name": "LayoutModel",
       "_view_count": null,
       "_view_module": "@jupyter-widgets/base",
       "_view_module_version": "1.2.0",
       "_view_name": "LayoutView",
       "align_content": null,
       "align_items": null,
       "align_self": null,
       "border": null,
       "bottom": null,
       "display": null,
       "flex": null,
       "flex_flow": null,
       "grid_area": null,
       "grid_auto_columns": null,
       "grid_auto_flow": null,
       "grid_auto_rows": null,
       "grid_column": null,
       "grid_gap": null,
       "grid_row": null,
       "grid_template_areas": null,
       "grid_template_columns": null,
       "grid_template_rows": null,
       "height": null,
       "justify_content": null,
       "justify_items": null,
       "left": null,
       "margin": null,
       "max_height": null,
       "max_width": null,
       "min_height": null,
       "min_width": null,
       "object_fit": null,
       "object_position": null,
       "order": null,
       "overflow": null,
       "overflow_x": null,
       "overflow_y": null,
       "padding": null,
       "right": null,
       "top": null,
       "visibility": null,
       "width": null
      }
     },
     "82f9e80989d84a89bca2fc9498db6aef": {
      "model_module": "@jupyter-widgets/base",
      "model_module_version": "1.2.0",
      "model_name": "LayoutModel",
      "state": {
       "_model_module": "@jupyter-widgets/base",
       "_model_module_version": "1.2.0",
       "_model_name": "LayoutModel",
       "_view_count": null,
       "_view_module": "@jupyter-widgets/base",
       "_view_module_version": "1.2.0",
       "_view_name": "LayoutView",
       "align_content": null,
       "align_items": null,
       "align_self": null,
       "border": null,
       "bottom": null,
       "display": null,
       "flex": null,
       "flex_flow": null,
       "grid_area": null,
       "grid_auto_columns": null,
       "grid_auto_flow": null,
       "grid_auto_rows": null,
       "grid_column": null,
       "grid_gap": null,
       "grid_row": null,
       "grid_template_areas": null,
       "grid_template_columns": null,
       "grid_template_rows": null,
       "height": null,
       "justify_content": null,
       "justify_items": null,
       "left": null,
       "margin": null,
       "max_height": null,
       "max_width": null,
       "min_height": null,
       "min_width": null,
       "object_fit": null,
       "object_position": null,
       "order": null,
       "overflow": null,
       "overflow_x": null,
       "overflow_y": null,
       "padding": null,
       "right": null,
       "top": null,
       "visibility": null,
       "width": null
      }
     },
     "8644efb16afb4d89a1412bf8199248c7": {
      "model_module": "@jupyter-widgets/base",
      "model_module_version": "1.2.0",
      "model_name": "LayoutModel",
      "state": {
       "_model_module": "@jupyter-widgets/base",
       "_model_module_version": "1.2.0",
       "_model_name": "LayoutModel",
       "_view_count": null,
       "_view_module": "@jupyter-widgets/base",
       "_view_module_version": "1.2.0",
       "_view_name": "LayoutView",
       "align_content": null,
       "align_items": null,
       "align_self": null,
       "border": null,
       "bottom": null,
       "display": null,
       "flex": null,
       "flex_flow": null,
       "grid_area": null,
       "grid_auto_columns": null,
       "grid_auto_flow": null,
       "grid_auto_rows": null,
       "grid_column": null,
       "grid_gap": null,
       "grid_row": null,
       "grid_template_areas": null,
       "grid_template_columns": null,
       "grid_template_rows": null,
       "height": null,
       "justify_content": null,
       "justify_items": null,
       "left": null,
       "margin": null,
       "max_height": null,
       "max_width": null,
       "min_height": null,
       "min_width": null,
       "object_fit": null,
       "object_position": null,
       "order": null,
       "overflow": null,
       "overflow_x": null,
       "overflow_y": null,
       "padding": null,
       "right": null,
       "top": null,
       "visibility": null,
       "width": null
      }
     },
     "9236265e34b24ddb8d8ffd0f0714a02b": {
      "model_module": "@jupyter-widgets/base",
      "model_module_version": "1.2.0",
      "model_name": "LayoutModel",
      "state": {
       "_model_module": "@jupyter-widgets/base",
       "_model_module_version": "1.2.0",
       "_model_name": "LayoutModel",
       "_view_count": null,
       "_view_module": "@jupyter-widgets/base",
       "_view_module_version": "1.2.0",
       "_view_name": "LayoutView",
       "align_content": null,
       "align_items": null,
       "align_self": null,
       "border": null,
       "bottom": null,
       "display": null,
       "flex": null,
       "flex_flow": null,
       "grid_area": null,
       "grid_auto_columns": null,
       "grid_auto_flow": null,
       "grid_auto_rows": null,
       "grid_column": null,
       "grid_gap": null,
       "grid_row": null,
       "grid_template_areas": null,
       "grid_template_columns": null,
       "grid_template_rows": null,
       "height": null,
       "justify_content": null,
       "justify_items": null,
       "left": null,
       "margin": null,
       "max_height": null,
       "max_width": null,
       "min_height": null,
       "min_width": null,
       "object_fit": null,
       "object_position": null,
       "order": null,
       "overflow": null,
       "overflow_x": null,
       "overflow_y": null,
       "padding": null,
       "right": null,
       "top": null,
       "visibility": null,
       "width": null
      }
     },
     "9fc66ce04baf4cd1a95beb6378002e50": {
      "model_module": "@jupyter-widgets/controls",
      "model_module_version": "1.5.0",
      "model_name": "HBoxModel",
      "state": {
       "_dom_classes": [],
       "_model_module": "@jupyter-widgets/controls",
       "_model_module_version": "1.5.0",
       "_model_name": "HBoxModel",
       "_view_count": null,
       "_view_module": "@jupyter-widgets/controls",
       "_view_module_version": "1.5.0",
       "_view_name": "HBoxView",
       "box_style": "",
       "children": [
        "IPY_MODEL_b7ca8c3e06804c04a866ca4ede4d41d9",
        "IPY_MODEL_af473a7fa99146429942d689299589bb",
        "IPY_MODEL_d487a529dc1a435a861fb20f554f769f"
       ],
       "layout": "IPY_MODEL_662a358a5f314220bc820a58cce1c2f5"
      }
     },
     "af473a7fa99146429942d689299589bb": {
      "model_module": "@jupyter-widgets/controls",
      "model_module_version": "1.5.0",
      "model_name": "FloatProgressModel",
      "state": {
       "_dom_classes": [],
       "_model_module": "@jupyter-widgets/controls",
       "_model_module_version": "1.5.0",
       "_model_name": "FloatProgressModel",
       "_view_count": null,
       "_view_module": "@jupyter-widgets/controls",
       "_view_module_version": "1.5.0",
       "_view_name": "ProgressView",
       "bar_style": "success",
       "description": "",
       "description_tooltip": null,
       "layout": "IPY_MODEL_fe98f52e4cfd4cd9be192e0a43abe3f3",
       "max": 3288.0,
       "min": 0.0,
       "orientation": "horizontal",
       "style": "IPY_MODEL_5e83ceaa1be9408085dce78a671b47c4",
       "value": 3288.0
      }
     },
     "b300493e9bfd484b98faaf82dbb5a099": {
      "model_module": "@jupyter-widgets/controls",
      "model_module_version": "1.5.0",
      "model_name": "ProgressStyleModel",
      "state": {
       "_model_module": "@jupyter-widgets/controls",
       "_model_module_version": "1.5.0",
       "_model_name": "ProgressStyleModel",
       "_view_count": null,
       "_view_module": "@jupyter-widgets/base",
       "_view_module_version": "1.2.0",
       "_view_name": "StyleView",
       "bar_color": null,
       "description_width": ""
      }
     },
     "b7ca8c3e06804c04a866ca4ede4d41d9": {
      "model_module": "@jupyter-widgets/controls",
      "model_module_version": "1.5.0",
      "model_name": "HTMLModel",
      "state": {
       "_dom_classes": [],
       "_model_module": "@jupyter-widgets/controls",
       "_model_module_version": "1.5.0",
       "_model_name": "HTMLModel",
       "_view_count": null,
       "_view_module": "@jupyter-widgets/controls",
       "_view_module_version": "1.5.0",
       "_view_name": "HTMLView",
       "description": "",
       "description_tooltip": null,
       "layout": "IPY_MODEL_389858b7f90d4b4c8acf4d98be162b4d",
       "placeholder": "​",
       "style": "IPY_MODEL_fe5233580a83427eb9b4c1d402238c71",
       "value": "100%"
      }
     },
     "d487a529dc1a435a861fb20f554f769f": {
      "model_module": "@jupyter-widgets/controls",
      "model_module_version": "1.5.0",
      "model_name": "HTMLModel",
      "state": {
       "_dom_classes": [],
       "_model_module": "@jupyter-widgets/controls",
       "_model_module_version": "1.5.0",
       "_model_name": "HTMLModel",
       "_view_count": null,
       "_view_module": "@jupyter-widgets/controls",
       "_view_module_version": "1.5.0",
       "_view_name": "HTMLView",
       "description": "",
       "description_tooltip": null,
       "layout": "IPY_MODEL_82f9e80989d84a89bca2fc9498db6aef",
       "placeholder": "​",
       "style": "IPY_MODEL_6023101beae745c794c606a7292d43ab",
       "value": " 3288/3288 [03:36&lt;00:00, 269.20it/s]"
      }
     },
     "d7f6b51be9ec42f393fd17fd28a0ee51": {
      "model_module": "@jupyter-widgets/controls",
      "model_module_version": "1.5.0",
      "model_name": "HTMLModel",
      "state": {
       "_dom_classes": [],
       "_model_module": "@jupyter-widgets/controls",
       "_model_module_version": "1.5.0",
       "_model_name": "HTMLModel",
       "_view_count": null,
       "_view_module": "@jupyter-widgets/controls",
       "_view_module_version": "1.5.0",
       "_view_name": "HTMLView",
       "description": "",
       "description_tooltip": null,
       "layout": "IPY_MODEL_d8a8ec8dd1c543e9b50d03abaa27994c",
       "placeholder": "​",
       "style": "IPY_MODEL_31b6a91a09d246418ae0fbb3a1ab2135",
       "value": "100%"
      }
     },
     "d8a8ec8dd1c543e9b50d03abaa27994c": {
      "model_module": "@jupyter-widgets/base",
      "model_module_version": "1.2.0",
      "model_name": "LayoutModel",
      "state": {
       "_model_module": "@jupyter-widgets/base",
       "_model_module_version": "1.2.0",
       "_model_name": "LayoutModel",
       "_view_count": null,
       "_view_module": "@jupyter-widgets/base",
       "_view_module_version": "1.2.0",
       "_view_name": "LayoutView",
       "align_content": null,
       "align_items": null,
       "align_self": null,
       "border": null,
       "bottom": null,
       "display": null,
       "flex": null,
       "flex_flow": null,
       "grid_area": null,
       "grid_auto_columns": null,
       "grid_auto_flow": null,
       "grid_auto_rows": null,
       "grid_column": null,
       "grid_gap": null,
       "grid_row": null,
       "grid_template_areas": null,
       "grid_template_columns": null,
       "grid_template_rows": null,
       "height": null,
       "justify_content": null,
       "justify_items": null,
       "left": null,
       "margin": null,
       "max_height": null,
       "max_width": null,
       "min_height": null,
       "min_width": null,
       "object_fit": null,
       "object_position": null,
       "order": null,
       "overflow": null,
       "overflow_x": null,
       "overflow_y": null,
       "padding": null,
       "right": null,
       "top": null,
       "visibility": null,
       "width": null
      }
     },
     "e64d430665f74a20b5ce4ae06f989d46": {
      "model_module": "@jupyter-widgets/controls",
      "model_module_version": "1.5.0",
      "model_name": "HTMLModel",
      "state": {
       "_dom_classes": [],
       "_model_module": "@jupyter-widgets/controls",
       "_model_module_version": "1.5.0",
       "_model_name": "HTMLModel",
       "_view_count": null,
       "_view_module": "@jupyter-widgets/controls",
       "_view_module_version": "1.5.0",
       "_view_name": "HTMLView",
       "description": "",
       "description_tooltip": null,
       "layout": "IPY_MODEL_9236265e34b24ddb8d8ffd0f0714a02b",
       "placeholder": "​",
       "style": "IPY_MODEL_ea3307b7188f4b8192a87ad91138380f",
       "value": " 3288/3288 [02:08&lt;00:00, 285.06it/s]"
      }
     },
     "ea3307b7188f4b8192a87ad91138380f": {
      "model_module": "@jupyter-widgets/controls",
      "model_module_version": "1.5.0",
      "model_name": "DescriptionStyleModel",
      "state": {
       "_model_module": "@jupyter-widgets/controls",
       "_model_module_version": "1.5.0",
       "_model_name": "DescriptionStyleModel",
       "_view_count": null,
       "_view_module": "@jupyter-widgets/base",
       "_view_module_version": "1.2.0",
       "_view_name": "StyleView",
       "description_width": ""
      }
     },
     "fe5233580a83427eb9b4c1d402238c71": {
      "model_module": "@jupyter-widgets/controls",
      "model_module_version": "1.5.0",
      "model_name": "DescriptionStyleModel",
      "state": {
       "_model_module": "@jupyter-widgets/controls",
       "_model_module_version": "1.5.0",
       "_model_name": "DescriptionStyleModel",
       "_view_count": null,
       "_view_module": "@jupyter-widgets/base",
       "_view_module_version": "1.2.0",
       "_view_name": "StyleView",
       "description_width": ""
      }
     },
     "fe98f52e4cfd4cd9be192e0a43abe3f3": {
      "model_module": "@jupyter-widgets/base",
      "model_module_version": "1.2.0",
      "model_name": "LayoutModel",
      "state": {
       "_model_module": "@jupyter-widgets/base",
       "_model_module_version": "1.2.0",
       "_model_name": "LayoutModel",
       "_view_count": null,
       "_view_module": "@jupyter-widgets/base",
       "_view_module_version": "1.2.0",
       "_view_name": "LayoutView",
       "align_content": null,
       "align_items": null,
       "align_self": null,
       "border": null,
       "bottom": null,
       "display": null,
       "flex": null,
       "flex_flow": null,
       "grid_area": null,
       "grid_auto_columns": null,
       "grid_auto_flow": null,
       "grid_auto_rows": null,
       "grid_column": null,
       "grid_gap": null,
       "grid_row": null,
       "grid_template_areas": null,
       "grid_template_columns": null,
       "grid_template_rows": null,
       "height": null,
       "justify_content": null,
       "justify_items": null,
       "left": null,
       "margin": null,
       "max_height": null,
       "max_width": null,
       "min_height": null,
       "min_width": null,
       "object_fit": null,
       "object_position": null,
       "order": null,
       "overflow": null,
       "overflow_x": null,
       "overflow_y": null,
       "padding": null,
       "right": null,
       "top": null,
       "visibility": null,
       "width": null
      }
     }
    },
    "version_major": 2,
    "version_minor": 0
   }
  }
 },
 "nbformat": 4,
 "nbformat_minor": 5
}
